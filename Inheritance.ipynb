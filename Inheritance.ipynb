{
 "cells": [
  {
   "cell_type": "code",
   "execution_count": 2,
   "id": "a29c4b5b-450b-4538-b257-13910eb49aea",
   "metadata": {
    "tags": []
   },
   "outputs": [],
   "source": [
    "class test:\n",
    "    def test_meth(self):\n",
    "        return \"This is my first class\""
   ]
  },
  {
   "cell_type": "code",
   "execution_count": 4,
   "id": "dd4522e2-572c-4e47-ad53-279d6644864e",
   "metadata": {
    "tags": []
   },
   "outputs": [],
   "source": [
    "class child_test(test):\n",
    "    pass"
   ]
  },
  {
   "cell_type": "code",
   "execution_count": 5,
   "id": "e5b04cc3-9e8d-4bc9-ab01-5d52d870c2a5",
   "metadata": {
    "tags": []
   },
   "outputs": [],
   "source": [
    "child_test_obj = child_test()"
   ]
  },
  {
   "cell_type": "code",
   "execution_count": 6,
   "id": "58cc768c-a970-4304-850d-a7848a370ca8",
   "metadata": {
    "tags": []
   },
   "outputs": [
    {
     "data": {
      "text/plain": [
       "'This is my first class'"
      ]
     },
     "execution_count": 6,
     "metadata": {},
     "output_type": "execute_result"
    }
   ],
   "source": [
    "child_test_obj.test_meth()"
   ]
  },
  {
   "cell_type": "code",
   "execution_count": 7,
   "id": "f563bdb0-d67f-4281-9d68-ad4a80f85c00",
   "metadata": {
    "tags": []
   },
   "outputs": [],
   "source": [
    "class class1:\n",
    "    def test_class1(self):\n",
    "        return \"This is a meth from class1\""
   ]
  },
  {
   "cell_type": "code",
   "execution_count": 33,
   "id": "7e60756a-0856-4bd1-9ddd-4c0096f967c6",
   "metadata": {
    "tags": []
   },
   "outputs": [],
   "source": [
    "class class2(class1):\n",
    "    def test_class2(self):\n",
    "        return \"This is a meth class2\""
   ]
  },
  {
   "cell_type": "code",
   "execution_count": 39,
   "id": "22fbb4db-0940-4cc2-bf94-5befe11996da",
   "metadata": {
    "tags": []
   },
   "outputs": [],
   "source": [
    "class class3(class2):\n",
    "    def test_class3(test2):\n",
    "        pass"
   ]
  },
  {
   "cell_type": "code",
   "execution_count": 40,
   "id": "17a51a50-ff4c-4dc7-a74b-4b330c4fab69",
   "metadata": {
    "tags": []
   },
   "outputs": [],
   "source": [
    "obj_class3 = class3()"
   ]
  },
  {
   "cell_type": "code",
   "execution_count": 41,
   "id": "0735d936-7835-4260-8243-747539f427ee",
   "metadata": {
    "tags": []
   },
   "outputs": [
    {
     "data": {
      "text/plain": [
       "'This is a meth from class1'"
      ]
     },
     "execution_count": 41,
     "metadata": {},
     "output_type": "execute_result"
    }
   ],
   "source": [
    "obj_class3.test_class1()"
   ]
  },
  {
   "cell_type": "code",
   "execution_count": 42,
   "id": "1c4c5cff-5f72-41dd-8306-b18a3c14c238",
   "metadata": {
    "tags": []
   },
   "outputs": [
    {
     "data": {
      "text/plain": [
       "'This is a meth class2'"
      ]
     },
     "execution_count": 42,
     "metadata": {},
     "output_type": "execute_result"
    }
   ],
   "source": [
    "obj_class3.test_class2()"
   ]
  },
  {
   "cell_type": "markdown",
   "id": "8d535874-a0ff-4546-bc54-d9b22c101471",
   "metadata": {},
   "source": [
    "multiple inheritance"
   ]
  },
  {
   "cell_type": "code",
   "execution_count": 43,
   "id": "52e8197a-5891-45f0-a7f3-7edf0727e6fa",
   "metadata": {
    "tags": []
   },
   "outputs": [],
   "source": [
    "class class1:\n",
    "    def test_class1(self):\n",
    "        return \"this is my first class\""
   ]
  },
  {
   "cell_type": "code",
   "execution_count": 44,
   "id": "1e7c2c2f-69cb-43e0-be39-f6c697b16122",
   "metadata": {
    "tags": []
   },
   "outputs": [],
   "source": [
    "class class2:\n",
    "    def test_class2(self):\n",
    "        return \"this is my second class\""
   ]
  },
  {
   "cell_type": "code",
   "execution_count": 45,
   "id": "fc798a77-372c-4289-9f36-2032df8db669",
   "metadata": {
    "tags": []
   },
   "outputs": [],
   "source": [
    "class class3(class1,class2):\n",
    "    pass"
   ]
  },
  {
   "cell_type": "code",
   "execution_count": 46,
   "id": "4e790da1-8fc0-45f3-8b82-a1b63257472a",
   "metadata": {
    "tags": []
   },
   "outputs": [],
   "source": [
    "class3_obj = class3()"
   ]
  },
  {
   "cell_type": "code",
   "execution_count": 47,
   "id": "d85b1270-49de-4200-87dd-d8cd4a3c659c",
   "metadata": {
    "tags": []
   },
   "outputs": [
    {
     "data": {
      "text/plain": [
       "'this is my first class'"
      ]
     },
     "execution_count": 47,
     "metadata": {},
     "output_type": "execute_result"
    }
   ],
   "source": [
    "class3_obj.test_class1()"
   ]
  },
  {
   "cell_type": "code",
   "execution_count": 48,
   "id": "56914e24-c346-46d7-9125-cbd90b1776cb",
   "metadata": {
    "tags": []
   },
   "outputs": [
    {
     "data": {
      "text/plain": [
       "'this is my second class'"
      ]
     },
     "execution_count": 48,
     "metadata": {},
     "output_type": "execute_result"
    }
   ],
   "source": [
    "class3_obj.test_class2()"
   ]
  },
  {
   "cell_type": "code",
   "execution_count": 51,
   "id": "725c6bee-2724-4784-8f88-b141d10968fd",
   "metadata": {
    "tags": []
   },
   "outputs": [],
   "source": [
    "class bank_account:\n",
    "    def __init__(self,balance):\n",
    "        self.__balance = balance\n",
    "    def deposite(self, amount):\n",
    "        self.__balance = self.__balance+amount\n",
    "        \n",
    "    def withdraw(self, amount):\n",
    "        if self.__balance >= amount:\n",
    "            self.__balance = self.__balance - amount\n",
    "            return True\n",
    "        else:\n",
    "            return False\n",
    "    def get_balance(self):\n",
    "        return self.__balance\n",
    "    \n",
    "        "
   ]
  },
  {
   "cell_type": "code",
   "execution_count": 52,
   "id": "e5686ad1-1efb-4242-ac83-0cba19ed2b50",
   "metadata": {
    "tags": []
   },
   "outputs": [],
   "source": [
    "pra = bank_account(200000)"
   ]
  },
  {
   "cell_type": "code",
   "execution_count": 53,
   "id": "2143c742-5d14-4c11-859f-915d6b7f58a5",
   "metadata": {
    "tags": []
   },
   "outputs": [
    {
     "data": {
      "text/plain": [
       "200000"
      ]
     },
     "execution_count": 53,
     "metadata": {},
     "output_type": "execute_result"
    }
   ],
   "source": [
    "pra.get_balance()"
   ]
  },
  {
   "cell_type": "code",
   "execution_count": null,
   "id": "7fd6aa81-1bde-42d3-ac80-541d61959f5c",
   "metadata": {},
   "outputs": [],
   "source": [
    "pra.dep"
   ]
  }
 ],
 "metadata": {
  "kernelspec": {
   "display_name": "Python 3 (ipykernel)",
   "language": "python",
   "name": "python3"
  },
  "language_info": {
   "codemirror_mode": {
    "name": "ipython",
    "version": 3
   },
   "file_extension": ".py",
   "mimetype": "text/x-python",
   "name": "python",
   "nbconvert_exporter": "python",
   "pygments_lexer": "ipython3",
   "version": "3.11.5"
  }
 },
 "nbformat": 4,
 "nbformat_minor": 5
}
